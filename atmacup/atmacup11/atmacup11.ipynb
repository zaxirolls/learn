{
 "cells": [
  {
   "cell_type": "code",
   "execution_count": 129,
   "metadata": {},
   "outputs": [
    {
     "name": "stdout",
     "output_type": "stream",
     "text": [
      "env: DATA_ROOT=/atmacup/atmacup11/data\n"
     ]
    }
   ],
   "source": [
    "%env DATA_ROOT /atmacup/atmacup11/data"
   ]
  },
  {
   "cell_type": "code",
   "execution_count": 32,
   "metadata": {},
   "outputs": [
    {
     "data": {
      "text/plain": [
       "'C:\\\\Users\\\\zaxir\\\\Documents\\\\my_pj\\\\learn\\\\atmacup'"
      ]
     },
     "execution_count": 32,
     "metadata": {},
     "output_type": "execute_result"
    }
   ],
   "source": [
    "pwd"
   ]
  },
  {
   "cell_type": "code",
   "execution_count": 38,
   "metadata": {},
   "outputs": [
    {
     "name": "stdout",
     "output_type": "stream",
     "text": [
      "[WinError 2] 指定されたファイルが見つかりません。: '${DATA_ROOT}'\n",
      "C:\\Users\\zaxir\\Documents\\my_pj\\learn\\atmacup\\atmacup11\\data\n"
     ]
    }
   ],
   "source": [
    "cd ${DATA_ROOT}"
   ]
  },
  {
   "cell_type": "code",
   "execution_count": 39,
   "metadata": {},
   "outputs": [
    {
     "data": {
      "text/plain": [
       "'C:\\\\Users\\\\zaxir\\\\Documents\\\\my_pj\\\\learn\\\\atmacup\\\\atmacup11\\\\data'"
      ]
     },
     "execution_count": 39,
     "metadata": {},
     "output_type": "execute_result"
    }
   ],
   "source": [
    "pwd"
   ]
  },
  {
   "cell_type": "code",
   "execution_count": 50,
   "metadata": {},
   "outputs": [
    {
     "data": {
      "text/plain": [
       "'C:\\\\Users\\\\zaxir\\\\Documents\\\\my_pj\\\\learn\\\\atmacup\\\\atmacup11\\\\data\\\\inputs'"
      ]
     },
     "execution_count": 50,
     "metadata": {},
     "output_type": "execute_result"
    }
   ],
   "source": [
    "pwd\n"
   ]
  },
  {
   "cell_type": "code",
   "execution_count": 51,
   "metadata": {},
   "outputs": [],
   "source": [
    "import os\n",
    "\n",
    "import pandas as pd\n",
    "import numpy as np\n",
    "from glob import glob\n",
    "\n",
    "import matplotlib.pyplot as plt\n",
    "import seaborn as sns"
   ]
  },
  {
   "cell_type": "code",
   "execution_count": 52,
   "metadata": {},
   "outputs": [
    {
     "name": "stdout",
     "output_type": "stream",
     "text": [
      "Collecting python-vivid\n",
      "  Downloading python_vivid-0.3.3.4-py3-none-any.whl (76 kB)\n",
      "Requirement already satisfied: matplotlib in c:\\users\\zaxir\\anaconda3\\lib\\site-packages (from python-vivid) (3.2.2)\n",
      "Requirement already satisfied: networkx in c:\\users\\zaxir\\anaconda3\\lib\\site-packages (from python-vivid) (2.4)\n",
      "Requirement already satisfied: scikit-learn in c:\\users\\zaxir\\anaconda3\\lib\\site-packages (from python-vivid) (0.23.1)\n",
      "Requirement already satisfied: seaborn in c:\\users\\zaxir\\anaconda3\\lib\\site-packages (from python-vivid) (0.10.1)\n",
      "Requirement already satisfied: optuna in c:\\users\\zaxir\\anaconda3\\lib\\site-packages (from python-vivid) (2.2.0)\n",
      "Requirement already satisfied: pandas in c:\\users\\zaxir\\anaconda3\\lib\\site-packages (from python-vivid) (1.0.5)\n",
      "Requirement already satisfied: joblib in c:\\users\\zaxir\\anaconda3\\lib\\site-packages (from python-vivid) (0.16.0)\n",
      "Collecting feather-format\n",
      "  Downloading feather-format-0.4.1.tar.gz (3.2 kB)\n",
      "Requirement already satisfied: tabulate in c:\\users\\zaxir\\anaconda3\\lib\\site-packages (from python-vivid) (0.8.7)\n",
      "Requirement already satisfied: lightgbm in c:\\users\\zaxir\\anaconda3\\lib\\site-packages (from python-vivid) (3.0.0)\n",
      "Requirement already satisfied: numpy in c:\\users\\zaxir\\anaconda3\\lib\\site-packages (from python-vivid) (1.18.5)\n",
      "Collecting xgboost\n",
      "  Downloading xgboost-1.4.2-py3-none-win_amd64.whl (97.8 MB)\n",
      "Requirement already satisfied: tqdm in c:\\users\\zaxir\\anaconda3\\lib\\site-packages (from python-vivid) (4.47.0)\n",
      "Requirement already satisfied: scipy in c:\\users\\zaxir\\anaconda3\\lib\\site-packages (from python-vivid) (1.5.0)\n",
      "Requirement already satisfied: pyparsing!=2.0.4,!=2.1.2,!=2.1.6,>=2.0.1 in c:\\users\\zaxir\\anaconda3\\lib\\site-packages (from matplotlib->python-vivid) (2.4.7)\n",
      "Requirement already satisfied: python-dateutil>=2.1 in c:\\users\\zaxir\\anaconda3\\lib\\site-packages (from matplotlib->python-vivid) (2.8.1)\n",
      "Requirement already satisfied: kiwisolver>=1.0.1 in c:\\users\\zaxir\\anaconda3\\lib\\site-packages (from matplotlib->python-vivid) (1.2.0)\n",
      "Requirement already satisfied: cycler>=0.10 in c:\\users\\zaxir\\anaconda3\\lib\\site-packages (from matplotlib->python-vivid) (0.10.0)\n",
      "Requirement already satisfied: decorator>=4.3.0 in c:\\users\\zaxir\\anaconda3\\lib\\site-packages (from networkx->python-vivid) (4.4.2)\n",
      "Requirement already satisfied: threadpoolctl>=2.0.0 in c:\\users\\zaxir\\anaconda3\\lib\\site-packages (from scikit-learn->python-vivid) (2.1.0)\n",
      "Requirement already satisfied: colorlog in c:\\users\\zaxir\\anaconda3\\lib\\site-packages (from optuna->python-vivid) (4.4.0)\n",
      "Requirement already satisfied: packaging>=20.0 in c:\\users\\zaxir\\anaconda3\\lib\\site-packages (from optuna->python-vivid) (20.4)\n",
      "Requirement already satisfied: cmaes>=0.6.0 in c:\\users\\zaxir\\anaconda3\\lib\\site-packages (from optuna->python-vivid) (0.6.1)\n",
      "Requirement already satisfied: sqlalchemy>=1.1.0 in c:\\users\\zaxir\\anaconda3\\lib\\site-packages (from optuna->python-vivid) (1.3.18)\n",
      "Requirement already satisfied: alembic in c:\\users\\zaxir\\anaconda3\\lib\\site-packages (from optuna->python-vivid) (1.4.3)\n",
      "Requirement already satisfied: cliff in c:\\users\\zaxir\\anaconda3\\lib\\site-packages (from optuna->python-vivid) (3.4.0)\n",
      "Requirement already satisfied: pytz>=2017.2 in c:\\users\\zaxir\\anaconda3\\lib\\site-packages (from pandas->python-vivid) (2020.1)\n",
      "Collecting pyarrow>=0.4.0\n",
      "  Downloading pyarrow-4.0.1-cp38-cp38-win_amd64.whl (13.3 MB)\n",
      "Requirement already satisfied: six>=1.5 in c:\\users\\zaxir\\anaconda3\\lib\\site-packages (from python-dateutil>=2.1->matplotlib->python-vivid) (1.15.0)\n",
      "Requirement already satisfied: colorama in c:\\users\\zaxir\\anaconda3\\lib\\site-packages (from colorlog->optuna->python-vivid) (0.4.3)\n",
      "Requirement already satisfied: Mako in c:\\users\\zaxir\\anaconda3\\lib\\site-packages (from alembic->optuna->python-vivid) (1.1.3)\n",
      "Requirement already satisfied: python-editor>=0.3 in c:\\users\\zaxir\\anaconda3\\lib\\site-packages (from alembic->optuna->python-vivid) (1.0.4)\n",
      "Requirement already satisfied: PrettyTable<0.8,>=0.7.2 in c:\\users\\zaxir\\anaconda3\\lib\\site-packages (from cliff->optuna->python-vivid) (0.7.2)\n",
      "Requirement already satisfied: PyYAML>=3.12 in c:\\users\\zaxir\\anaconda3\\lib\\site-packages (from cliff->optuna->python-vivid) (5.3.1)\n",
      "Requirement already satisfied: pbr!=2.1.0,>=2.0.0 in c:\\users\\zaxir\\anaconda3\\lib\\site-packages (from cliff->optuna->python-vivid) (5.5.0)\n",
      "Requirement already satisfied: cmd2!=0.8.3,>=0.8.0 in c:\\users\\zaxir\\anaconda3\\lib\\site-packages (from cliff->optuna->python-vivid) (0.9.15)\n",
      "Requirement already satisfied: stevedore>=2.0.1 in c:\\users\\zaxir\\anaconda3\\lib\\site-packages (from cliff->optuna->python-vivid) (3.2.2)\n",
      "Requirement already satisfied: MarkupSafe>=0.9.2 in c:\\users\\zaxir\\anaconda3\\lib\\site-packages (from Mako->alembic->optuna->python-vivid) (1.1.1)\n",
      "Requirement already satisfied: wcwidth>=0.1.7 in c:\\users\\zaxir\\anaconda3\\lib\\site-packages (from cmd2!=0.8.3,>=0.8.0->cliff->optuna->python-vivid) (0.2.5)\n",
      "Requirement already satisfied: attrs>=16.3.0 in c:\\users\\zaxir\\anaconda3\\lib\\site-packages (from cmd2!=0.8.3,>=0.8.0->cliff->optuna->python-vivid) (19.3.0)\n",
      "Requirement already satisfied: pyperclip>=1.6 in c:\\users\\zaxir\\anaconda3\\lib\\site-packages (from cmd2!=0.8.3,>=0.8.0->cliff->optuna->python-vivid) (1.8.0)\n",
      "Requirement already satisfied: pyreadline; sys_platform == \"win32\" in c:\\users\\zaxir\\anaconda3\\lib\\site-packages (from cmd2!=0.8.3,>=0.8.0->cliff->optuna->python-vivid) (2.1)\n",
      "Building wheels for collected packages: feather-format\n",
      "  Building wheel for feather-format (setup.py): started\n",
      "  Building wheel for feather-format (setup.py): finished with status 'done'\n",
      "  Created wheel for feather-format: filename=feather_format-0.4.1-py3-none-any.whl size=2461 sha256=196701c62df1c0ec2eddf53b82a030bbbfed03b0a1893e7088f67f9bae1772fd\n",
      "  Stored in directory: c:\\users\\zaxir\\appdata\\local\\pip\\cache\\wheels\\7b\\83\\4b\\44aa8f2292c0ae17a550c5105454e974fc45a5b2a522d66ae1\n",
      "Successfully built feather-format\n",
      "Installing collected packages: pyarrow, feather-format, xgboost, python-vivid\n",
      "Successfully installed feather-format-0.4.1 pyarrow-4.0.1 python-vivid-0.3.3.4 xgboost-1.4.2\n"
     ]
    }
   ],
   "source": [
    "!pip install python-vivid"
   ]
  },
  {
   "cell_type": "code",
   "execution_count": 174,
   "metadata": {},
   "outputs": [],
   "source": [
    "dataset_root = os.path.join(os.path.expanduser(\"~\"),\"Documents\\\\my_pj\\\\learn\\\\atmacup\\\\atmacup11\\\\data\")"
   ]
  },
  {
   "cell_type": "code",
   "execution_count": 175,
   "metadata": {},
   "outputs": [
    {
     "name": "stdout",
     "output_type": "stream",
     "text": [
      "C:\\Users\\zaxir\\Documents\\my_pj\\learn\\atmacup\\atmacup11\\data\n"
     ]
    }
   ],
   "source": [
    "print(dataset_root)"
   ]
  },
  {
   "cell_type": "code",
   "execution_count": 179,
   "metadata": {},
   "outputs": [
    {
     "name": "stdout",
     "output_type": "stream",
     "text": [
      "C:\\Users\\zaxir\\Documents\\my_pj\\learn\\atmacup\\atmacup11\\data\\inputs\n",
      "C:\\Users\\zaxir\\Documents\\my_pj\\learn\\atmacup\\atmacup11\\data\\inputs\\photos\\photos\n"
     ]
    }
   ],
   "source": [
    "input_dir = os.path.join(dataset_root,\"inputs\")\n",
    "photo_dir = os.path.join(input_dir,\"photos\\\\photos\")\n",
    "output_dir = os.path.join(dataset_root,\"outputs_tutorial#1\")\n",
    "print(input_dir)\n",
    "print(photo_dir)"
   ]
  },
  {
   "cell_type": "code",
   "execution_count": 166,
   "metadata": {},
   "outputs": [],
   "source": [
    "os.makedirs(output_dir,exist_ok=True)"
   ]
  },
  {
   "cell_type": "code",
   "execution_count": 167,
   "metadata": {},
   "outputs": [],
   "source": [
    "photo_pathes = glob(os.path.join(photo_dir,\"*.jpg\"))"
   ]
  },
  {
   "cell_type": "code",
   "execution_count": 168,
   "metadata": {},
   "outputs": [
    {
     "data": {
      "text/plain": [
       "['C:\\\\Users\\\\zaxir\\\\Documents\\\\my_pj\\\\learn\\\\atmacup\\\\atmacup11\\\\data/inputs\\\\atmaCup#11_sample_submission.csv',\n",
       " 'C:\\\\Users\\\\zaxir\\\\Documents\\\\my_pj\\\\learn\\\\atmacup\\\\atmacup11\\\\data/inputs\\\\materials.csv',\n",
       " 'C:\\\\Users\\\\zaxir\\\\Documents\\\\my_pj\\\\learn\\\\atmacup\\\\atmacup11\\\\data/inputs\\\\photos',\n",
       " 'C:\\\\Users\\\\zaxir\\\\Documents\\\\my_pj\\\\learn\\\\atmacup\\\\atmacup11\\\\data/inputs\\\\techniques.csv',\n",
       " 'C:\\\\Users\\\\zaxir\\\\Documents\\\\my_pj\\\\learn\\\\atmacup\\\\atmacup11\\\\data/inputs\\\\test.csv',\n",
       " 'C:\\\\Users\\\\zaxir\\\\Documents\\\\my_pj\\\\learn\\\\atmacup\\\\atmacup11\\\\data/inputs\\\\train.csv']"
      ]
     },
     "execution_count": 168,
     "metadata": {},
     "output_type": "execute_result"
    }
   ],
   "source": [
    "glob(dataset_root + '/inputs/*')"
   ]
  },
  {
   "cell_type": "code",
   "execution_count": 74,
   "metadata": {},
   "outputs": [
    {
     "data": {
      "text/plain": [
       "'/atmacup/atmacup11/data'"
      ]
     },
     "execution_count": 74,
     "metadata": {},
     "output_type": "execute_result"
    }
   ],
   "source": [
    "dataset_root"
   ]
  },
  {
   "cell_type": "code",
   "execution_count": 75,
   "metadata": {},
   "outputs": [
    {
     "data": {
      "text/plain": [
       "'/atmacup/atmacup11/data\\\\inputs'"
      ]
     },
     "execution_count": 75,
     "metadata": {},
     "output_type": "execute_result"
    }
   ],
   "source": [
    "input_dir"
   ]
  },
  {
   "cell_type": "code",
   "execution_count": 98,
   "metadata": {},
   "outputs": [
    {
     "name": "stdout",
     "output_type": "stream",
     "text": [
      "C:\\Users\\zaxir\\Documents\\my_pj\\learn\\atmacup\\atmacup11\\data\n"
     ]
    }
   ],
   "source": [
    "cd ./data"
   ]
  },
  {
   "cell_type": "code",
   "execution_count": 102,
   "metadata": {},
   "outputs": [],
   "source": [
    "train_df = pd.read_csv('./inputs/train.csv')\n",
    "test_df = pd.read_csv('./inputs/test.csv')\n",
    "\n",
    "material_df = pd.read_csv('./inputs/materials.csv')\n",
    "technique_df = pd.read_csv('./inputs/techniques.csv')"
   ]
  },
  {
   "cell_type": "code",
   "execution_count": 103,
   "metadata": {},
   "outputs": [],
   "source": [
    "from matplotlib_venn import venn2"
   ]
  },
  {
   "cell_type": "code",
   "execution_count": 105,
   "metadata": {},
   "outputs": [
    {
     "data": {
      "text/plain": [
       "<matplotlib_venn._common.VennDiagram at 0x1ca5c38ca60>"
      ]
     },
     "execution_count": 105,
     "metadata": {},
     "output_type": "execute_result"
    },
    {
     "data": {
      "image/png": "[encoded data removed]",
      "text/plain": [
       "<Figure size 864x360 with 2 Axes>"
      ]
     },
     "metadata": {},
     "output_type": "display_data"
    }
   ],
   "source": [
    "input_df = technique_df\n",
    "\n",
    "fig,axes = plt.subplots(figsize=(12,5),ncols=2)\n",
    "\n",
    "venn2(subsets=(\n",
    "    set(train_df['object_id']),set(input_df['object_id'])\n",
    "),set_labels=('train','input'),ax=axes[0])\n",
    "\n",
    "venn2(subsets=(\n",
    "    set(test_df['object_id']),set(input_df['object_id'])\n",
    "),set_labels=('test','input'),ax=axes[1])\n"
   ]
  },
  {
   "cell_type": "code",
   "execution_count": 106,
   "metadata": {},
   "outputs": [
    {
     "data": {
      "text/plain": [
       "<matplotlib_venn._common.VennDiagram at 0x1ca5bc602b0>"
      ]
     },
     "execution_count": 106,
     "metadata": {},
     "output_type": "execute_result"
    },
    {
     "data": {
      "image/png": "[encoded data removed]",
      "text/plain": [
       "<Figure size 864x360 with 2 Axes>"
      ]
     },
     "metadata": {},
     "output_type": "display_data"
    }
   ],
   "source": [
    "# materialの場合\n",
    "input_df = material_df\n",
    "\n",
    "fig,axes = plt.subplots(figsize=(12,5),ncols=2)\n",
    "\n",
    "venn2(subsets=(\n",
    "    set(train_df['object_id']),set(input_df['object_id'])\n",
    "),set_labels=('train','input'),ax=axes[0])\n",
    "\n",
    "venn2(subsets=(\n",
    "    set(test_df['object_id']),set(input_df['object_id'])\n",
    "),set_labels=('test','input'),ax=axes[1])"
   ]
  },
  {
   "cell_type": "code",
   "execution_count": 107,
   "metadata": {},
   "outputs": [
    {
     "data": {
      "text/html": [
       "<div>\n",
       "<style scoped>\n",
       "    .dataframe tbody tr th:only-of-type {\n",
       "        vertical-align: middle;\n",
       "    }\n",
       "\n",
       "    .dataframe tbody tr th {\n",
       "        vertical-align: top;\n",
       "    }\n",
       "\n",
       "    .dataframe thead th {\n",
       "        text-align: right;\n",
       "    }\n",
       "</style>\n",
       "<table border=\"1\" class=\"dataframe\">\n",
       "  <thead>\n",
       "    <tr style=\"text-align: right;\">\n",
       "      <th></th>\n",
       "      <th>object_id</th>\n",
       "      <th>sorting_date</th>\n",
       "      <th>art_series_id</th>\n",
       "      <th>target</th>\n",
       "    </tr>\n",
       "  </thead>\n",
       "  <tbody>\n",
       "    <tr>\n",
       "      <th>0</th>\n",
       "      <td>002bff09b09998d0be65</td>\n",
       "      <td>1631</td>\n",
       "      <td>509357f67692a6a45626</td>\n",
       "      <td>1</td>\n",
       "    </tr>\n",
       "    <tr>\n",
       "      <th>1</th>\n",
       "      <td>00309fb1ef05416f9c1f</td>\n",
       "      <td>1900</td>\n",
       "      <td>7987b47bbe5dc3039179</td>\n",
       "      <td>3</td>\n",
       "    </tr>\n",
       "    <tr>\n",
       "      <th>2</th>\n",
       "      <td>003a1562e97f79ba96dc</td>\n",
       "      <td>1834</td>\n",
       "      <td>ded7c3c9636708e5b14c</td>\n",
       "      <td>3</td>\n",
       "    </tr>\n",
       "    <tr>\n",
       "      <th>3</th>\n",
       "      <td>004890880e8e7431147b</td>\n",
       "      <td>1743</td>\n",
       "      <td>582ac2d7f0cef195b605</td>\n",
       "      <td>2</td>\n",
       "    </tr>\n",
       "    <tr>\n",
       "      <th>4</th>\n",
       "      <td>00718c32602425f504c1</td>\n",
       "      <td>1885</td>\n",
       "      <td>64c907f0c08dce4fb8e8</td>\n",
       "      <td>3</td>\n",
       "    </tr>\n",
       "  </tbody>\n",
       "</table>\n",
       "</div>"
      ],
      "text/plain": [
       "              object_id  sorting_date         art_series_id  target\n",
       "0  002bff09b09998d0be65          1631  509357f67692a6a45626       1\n",
       "1  00309fb1ef05416f9c1f          1900  7987b47bbe5dc3039179       3\n",
       "2  003a1562e97f79ba96dc          1834  ded7c3c9636708e5b14c       3\n",
       "3  004890880e8e7431147b          1743  582ac2d7f0cef195b605       2\n",
       "4  00718c32602425f504c1          1885  64c907f0c08dce4fb8e8       3"
      ]
     },
     "execution_count": 107,
     "metadata": {},
     "output_type": "execute_result"
    }
   ],
   "source": [
    "train_df.head()"
   ]
  },
  {
   "cell_type": "markdown",
   "metadata": {},
   "source": []
  },
  {
   "cell_type": "code",
   "execution_count": 108,
   "metadata": {},
   "outputs": [
    {
     "data": {
      "image/png": "[encoded data removed]",
      "text/plain": [
       "<Figure size 576x288 with 1 Axes>"
      ]
     },
     "metadata": {
      "needs_background": "light"
     },
     "output_type": "display_data"
    }
   ],
   "source": [
    "fig,ax=plt.subplots(figsize=(8,4))\n",
    "sns.countplot(data=train_df,x='target',ax=ax)\n",
    "ax.grid()"
   ]
  },
  {
   "cell_type": "code",
   "execution_count": 109,
   "metadata": {},
   "outputs": [
    {
     "data": {
      "text/plain": [
       "0     475\n",
       "1     896\n",
       "2    1511\n",
       "3    1055\n",
       "Name: target, dtype: int64"
      ]
     },
     "execution_count": 109,
     "metadata": {},
     "output_type": "execute_result"
    }
   ],
   "source": [
    "train_df['target'].value_counts().sort_index()"
   ]
  },
  {
   "cell_type": "code",
   "execution_count": 110,
   "metadata": {},
   "outputs": [
    {
     "data": {
      "image/png": "[encoded data removed]",
      "text/plain": [
       "<Figure size 576x288 with 1 Axes>"
      ]
     },
     "metadata": {
      "needs_background": "light"
     },
     "output_type": "display_data"
    }
   ],
   "source": [
    "fig,ax=plt.subplots(figsize=(8,4))\n",
    "sns.boxenplot(data=train_df,x='target',y='sorting_date',ax=ax)\n",
    "ax.grid()"
   ]
  },
  {
   "cell_type": "code",
   "execution_count": 112,
   "metadata": {},
   "outputs": [
    {
     "data": {
      "text/html": [
       "<div>\n",
       "<style scoped>\n",
       "    .dataframe tbody tr th:only-of-type {\n",
       "        vertical-align: middle;\n",
       "    }\n",
       "\n",
       "    .dataframe tbody tr th {\n",
       "        vertical-align: top;\n",
       "    }\n",
       "\n",
       "    .dataframe thead th {\n",
       "        text-align: right;\n",
       "    }\n",
       "</style>\n",
       "<table border=\"1\" class=\"dataframe\">\n",
       "  <thead>\n",
       "    <tr style=\"text-align: right;\">\n",
       "      <th></th>\n",
       "      <th>min</th>\n",
       "      <th>max</th>\n",
       "      <th>median</th>\n",
       "      <th>size</th>\n",
       "    </tr>\n",
       "    <tr>\n",
       "      <th>target</th>\n",
       "      <th></th>\n",
       "      <th></th>\n",
       "      <th></th>\n",
       "      <th></th>\n",
       "    </tr>\n",
       "  </thead>\n",
       "  <tbody>\n",
       "    <tr>\n",
       "      <th>0</th>\n",
       "      <td>1440</td>\n",
       "      <td>1600</td>\n",
       "      <td>1574</td>\n",
       "      <td>475</td>\n",
       "    </tr>\n",
       "    <tr>\n",
       "      <th>1</th>\n",
       "      <td>1601</td>\n",
       "      <td>1700</td>\n",
       "      <td>1655</td>\n",
       "      <td>896</td>\n",
       "    </tr>\n",
       "    <tr>\n",
       "      <th>2</th>\n",
       "      <td>1701</td>\n",
       "      <td>1800</td>\n",
       "      <td>1770</td>\n",
       "      <td>1511</td>\n",
       "    </tr>\n",
       "    <tr>\n",
       "      <th>3</th>\n",
       "      <td>1801</td>\n",
       "      <td>1991</td>\n",
       "      <td>1841</td>\n",
       "      <td>1055</td>\n",
       "    </tr>\n",
       "  </tbody>\n",
       "</table>\n",
       "</div>"
      ],
      "text/plain": [
       "         min   max  median  size\n",
       "target                          \n",
       "0       1440  1600    1574   475\n",
       "1       1601  1700    1655   896\n",
       "2       1701  1800    1770  1511\n",
       "3       1801  1991    1841  1055"
      ]
     },
     "execution_count": 112,
     "metadata": {},
     "output_type": "execute_result"
    }
   ],
   "source": [
    "train_df.groupby('target')['sorting_date'].agg(['min','max','median','size'])"
   ]
  },
  {
   "cell_type": "code",
   "execution_count": 113,
   "metadata": {},
   "outputs": [
    {
     "data": {
      "text/html": [
       "<div>\n",
       "<style scoped>\n",
       "    .dataframe tbody tr th:only-of-type {\n",
       "        vertical-align: middle;\n",
       "    }\n",
       "\n",
       "    .dataframe tbody tr th {\n",
       "        vertical-align: top;\n",
       "    }\n",
       "\n",
       "    .dataframe thead th {\n",
       "        text-align: right;\n",
       "    }\n",
       "</style>\n",
       "<table border=\"1\" class=\"dataframe\">\n",
       "  <thead>\n",
       "    <tr style=\"text-align: right;\">\n",
       "      <th></th>\n",
       "      <th>object_id</th>\n",
       "    </tr>\n",
       "  </thead>\n",
       "  <tbody>\n",
       "    <tr>\n",
       "      <th>0</th>\n",
       "      <td>0009e50b94be36ccad39</td>\n",
       "    </tr>\n",
       "    <tr>\n",
       "      <th>1</th>\n",
       "      <td>000bd5e82eb22f199f44</td>\n",
       "    </tr>\n",
       "    <tr>\n",
       "      <th>2</th>\n",
       "      <td>0015f44de1854f617516</td>\n",
       "    </tr>\n",
       "    <tr>\n",
       "      <th>3</th>\n",
       "      <td>00388a678879ba1efa27</td>\n",
       "    </tr>\n",
       "    <tr>\n",
       "      <th>4</th>\n",
       "      <td>005e1e7c6496902d23f3</td>\n",
       "    </tr>\n",
       "  </tbody>\n",
       "</table>\n",
       "</div>"
      ],
      "text/plain": [
       "              object_id\n",
       "0  0009e50b94be36ccad39\n",
       "1  000bd5e82eb22f199f44\n",
       "2  0015f44de1854f617516\n",
       "3  00388a678879ba1efa27\n",
       "4  005e1e7c6496902d23f3"
      ]
     },
     "execution_count": 113,
     "metadata": {},
     "output_type": "execute_result"
    }
   ],
   "source": [
    "test_df.head()"
   ]
  },
  {
   "cell_type": "code",
   "execution_count": 116,
   "metadata": {},
   "outputs": [],
   "source": [
    "from PIL import Image\n",
    "\n",
    "def to_img_path(object_id):\n",
    "    return os.path.join(photo_dir,f'{object_id}.jpg')\n",
    "\n",
    "def read_image(object_id):\n",
    "    return Image.open(to_img_path(object_id))"
   ]
  },
  {
   "cell_type": "code",
   "execution_count": 180,
   "metadata": {},
   "outputs": [],
   "source": [
    "img = read_image(train_df['object_id'].iat[0])"
   ]
  },
  {
   "cell_type": "code",
   "execution_count": 181,
   "metadata": {},
   "outputs": [
    {
     "data": {
      "image/png": "[encoded data removed]",
      "text/plain": [
       "<PIL.JpegImagePlugin.JpegImageFile image mode=RGB size=224x109 at 0x1CA5D1AEB20>"
      ]
     },
     "execution_count": 181,
     "metadata": {},
     "output_type": "execute_result"
    }
   ],
   "source": [
    "img"
   ]
  },
  {
   "cell_type": "code",
   "execution_count": 138,
   "metadata": {},
   "outputs": [],
   "source": []
  },
  {
   "cell_type": "code",
   "execution_count": null,
   "metadata": {},
   "outputs": [],
   "source": []
  }
 ],
 "metadata": {
  "kernelspec": {
   "display_name": "Python 3",
   "language": "python",
   "name": "python3"
  },
  "language_info": {
   "codemirror_mode": {
    "name": "ipython",
    "version": 3
   },
   "file_extension": ".py",
   "mimetype": "text/x-python",
   "name": "python",
   "nbconvert_exporter": "python",
   "pygments_lexer": "ipython3",
   "version": "3.8.3"
  }
 },
 "nbformat": 4,
 "nbformat_minor": 4
}
