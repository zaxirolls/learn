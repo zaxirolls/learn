{
 "cells": [
  {
   "cell_type": "code",
   "execution_count": 65,
   "metadata": {},
   "outputs": [
    {
     "name": "stdout",
     "output_type": "stream",
     "text": [
      "env: DATA_ROOT=/atmacup/atmacup11/data\n"
     ]
    }
   ],
   "source": [
    "%env DATA_ROOT /atmacup/atmacup11/data"
   ]
  },
  {
   "cell_type": "code",
   "execution_count": 32,
   "metadata": {},
   "outputs": [
    {
     "data": {
      "text/plain": [
       "'C:\\\\Users\\\\zaxir\\\\Documents\\\\my_pj\\\\learn\\\\atmacup'"
      ]
     },
     "execution_count": 32,
     "metadata": {},
     "output_type": "execute_result"
    }
   ],
   "source": [
    "pwd"
   ]
  },
  {
   "cell_type": "code",
   "execution_count": 38,
   "metadata": {},
   "outputs": [
    {
     "name": "stdout",
     "output_type": "stream",
     "text": [
      "[WinError 2] 指定されたファイルが見つかりません。: '${DATA_ROOT}'\n",
      "C:\\Users\\zaxir\\Documents\\my_pj\\learn\\atmacup\\atmacup11\\data\n"
     ]
    }
   ],
   "source": [
    "cd ${DATA_ROOT}"
   ]
  },
  {
   "cell_type": "code",
   "execution_count": 39,
   "metadata": {},
   "outputs": [
    {
     "data": {
      "text/plain": [
       "'C:\\\\Users\\\\zaxir\\\\Documents\\\\my_pj\\\\learn\\\\atmacup\\\\atmacup11\\\\data'"
      ]
     },
     "execution_count": 39,
     "metadata": {},
     "output_type": "execute_result"
    }
   ],
   "source": [
    "pwd"
   ]
  },
  {
   "cell_type": "code",
   "execution_count": 50,
   "metadata": {},
   "outputs": [
    {
     "data": {
      "text/plain": [
       "'C:\\\\Users\\\\zaxir\\\\Documents\\\\my_pj\\\\learn\\\\atmacup\\\\atmacup11\\\\data\\\\inputs'"
      ]
     },
     "execution_count": 50,
     "metadata": {},
     "output_type": "execute_result"
    }
   ],
   "source": [
    "pwd\n"
   ]
  },
  {
   "cell_type": "code",
   "execution_count": 51,
   "metadata": {},
   "outputs": [],
   "source": [
    "import os\n",
    "\n",
    "import pandas as pd\n",
    "import numpy as np\n",
    "from glob import glob\n",
    "\n",
    "import matplotlib.pyplot as plt\n",
    "import seaborn as sns"
   ]
  },
  {
   "cell_type": "code",
   "execution_count": 52,
   "metadata": {},
   "outputs": [
    {
     "name": "stdout",
     "output_type": "stream",
     "text": [
      "Collecting python-vivid\n",
      "  Downloading python_vivid-0.3.3.4-py3-none-any.whl (76 kB)\n",
      "Requirement already satisfied: matplotlib in c:\\users\\zaxir\\anaconda3\\lib\\site-packages (from python-vivid) (3.2.2)\n",
      "Requirement already satisfied: networkx in c:\\users\\zaxir\\anaconda3\\lib\\site-packages (from python-vivid) (2.4)\n",
      "Requirement already satisfied: scikit-learn in c:\\users\\zaxir\\anaconda3\\lib\\site-packages (from python-vivid) (0.23.1)\n",
      "Requirement already satisfied: seaborn in c:\\users\\zaxir\\anaconda3\\lib\\site-packages (from python-vivid) (0.10.1)\n",
      "Requirement already satisfied: optuna in c:\\users\\zaxir\\anaconda3\\lib\\site-packages (from python-vivid) (2.2.0)\n",
      "Requirement already satisfied: pandas in c:\\users\\zaxir\\anaconda3\\lib\\site-packages (from python-vivid) (1.0.5)\n",
      "Requirement already satisfied: joblib in c:\\users\\zaxir\\anaconda3\\lib\\site-packages (from python-vivid) (0.16.0)\n",
      "Collecting feather-format\n",
      "  Downloading feather-format-0.4.1.tar.gz (3.2 kB)\n",
      "Requirement already satisfied: tabulate in c:\\users\\zaxir\\anaconda3\\lib\\site-packages (from python-vivid) (0.8.7)\n",
      "Requirement already satisfied: lightgbm in c:\\users\\zaxir\\anaconda3\\lib\\site-packages (from python-vivid) (3.0.0)\n",
      "Requirement already satisfied: numpy in c:\\users\\zaxir\\anaconda3\\lib\\site-packages (from python-vivid) (1.18.5)\n",
      "Collecting xgboost\n",
      "  Downloading xgboost-1.4.2-py3-none-win_amd64.whl (97.8 MB)\n",
      "Requirement already satisfied: tqdm in c:\\users\\zaxir\\anaconda3\\lib\\site-packages (from python-vivid) (4.47.0)\n",
      "Requirement already satisfied: scipy in c:\\users\\zaxir\\anaconda3\\lib\\site-packages (from python-vivid) (1.5.0)\n",
      "Requirement already satisfied: pyparsing!=2.0.4,!=2.1.2,!=2.1.6,>=2.0.1 in c:\\users\\zaxir\\anaconda3\\lib\\site-packages (from matplotlib->python-vivid) (2.4.7)\n",
      "Requirement already satisfied: python-dateutil>=2.1 in c:\\users\\zaxir\\anaconda3\\lib\\site-packages (from matplotlib->python-vivid) (2.8.1)\n",
      "Requirement already satisfied: kiwisolver>=1.0.1 in c:\\users\\zaxir\\anaconda3\\lib\\site-packages (from matplotlib->python-vivid) (1.2.0)\n",
      "Requirement already satisfied: cycler>=0.10 in c:\\users\\zaxir\\anaconda3\\lib\\site-packages (from matplotlib->python-vivid) (0.10.0)\n",
      "Requirement already satisfied: decorator>=4.3.0 in c:\\users\\zaxir\\anaconda3\\lib\\site-packages (from networkx->python-vivid) (4.4.2)\n",
      "Requirement already satisfied: threadpoolctl>=2.0.0 in c:\\users\\zaxir\\anaconda3\\lib\\site-packages (from scikit-learn->python-vivid) (2.1.0)\n",
      "Requirement already satisfied: colorlog in c:\\users\\zaxir\\anaconda3\\lib\\site-packages (from optuna->python-vivid) (4.4.0)\n",
      "Requirement already satisfied: packaging>=20.0 in c:\\users\\zaxir\\anaconda3\\lib\\site-packages (from optuna->python-vivid) (20.4)\n",
      "Requirement already satisfied: cmaes>=0.6.0 in c:\\users\\zaxir\\anaconda3\\lib\\site-packages (from optuna->python-vivid) (0.6.1)\n",
      "Requirement already satisfied: sqlalchemy>=1.1.0 in c:\\users\\zaxir\\anaconda3\\lib\\site-packages (from optuna->python-vivid) (1.3.18)\n",
      "Requirement already satisfied: alembic in c:\\users\\zaxir\\anaconda3\\lib\\site-packages (from optuna->python-vivid) (1.4.3)\n",
      "Requirement already satisfied: cliff in c:\\users\\zaxir\\anaconda3\\lib\\site-packages (from optuna->python-vivid) (3.4.0)\n",
      "Requirement already satisfied: pytz>=2017.2 in c:\\users\\zaxir\\anaconda3\\lib\\site-packages (from pandas->python-vivid) (2020.1)\n",
      "Collecting pyarrow>=0.4.0\n",
      "  Downloading pyarrow-4.0.1-cp38-cp38-win_amd64.whl (13.3 MB)\n",
      "Requirement already satisfied: six>=1.5 in c:\\users\\zaxir\\anaconda3\\lib\\site-packages (from python-dateutil>=2.1->matplotlib->python-vivid) (1.15.0)\n",
      "Requirement already satisfied: colorama in c:\\users\\zaxir\\anaconda3\\lib\\site-packages (from colorlog->optuna->python-vivid) (0.4.3)\n",
      "Requirement already satisfied: Mako in c:\\users\\zaxir\\anaconda3\\lib\\site-packages (from alembic->optuna->python-vivid) (1.1.3)\n",
      "Requirement already satisfied: python-editor>=0.3 in c:\\users\\zaxir\\anaconda3\\lib\\site-packages (from alembic->optuna->python-vivid) (1.0.4)\n",
      "Requirement already satisfied: PrettyTable<0.8,>=0.7.2 in c:\\users\\zaxir\\anaconda3\\lib\\site-packages (from cliff->optuna->python-vivid) (0.7.2)\n",
      "Requirement already satisfied: PyYAML>=3.12 in c:\\users\\zaxir\\anaconda3\\lib\\site-packages (from cliff->optuna->python-vivid) (5.3.1)\n",
      "Requirement already satisfied: pbr!=2.1.0,>=2.0.0 in c:\\users\\zaxir\\anaconda3\\lib\\site-packages (from cliff->optuna->python-vivid) (5.5.0)\n",
      "Requirement already satisfied: cmd2!=0.8.3,>=0.8.0 in c:\\users\\zaxir\\anaconda3\\lib\\site-packages (from cliff->optuna->python-vivid) (0.9.15)\n",
      "Requirement already satisfied: stevedore>=2.0.1 in c:\\users\\zaxir\\anaconda3\\lib\\site-packages (from cliff->optuna->python-vivid) (3.2.2)\n",
      "Requirement already satisfied: MarkupSafe>=0.9.2 in c:\\users\\zaxir\\anaconda3\\lib\\site-packages (from Mako->alembic->optuna->python-vivid) (1.1.1)\n",
      "Requirement already satisfied: wcwidth>=0.1.7 in c:\\users\\zaxir\\anaconda3\\lib\\site-packages (from cmd2!=0.8.3,>=0.8.0->cliff->optuna->python-vivid) (0.2.5)\n",
      "Requirement already satisfied: attrs>=16.3.0 in c:\\users\\zaxir\\anaconda3\\lib\\site-packages (from cmd2!=0.8.3,>=0.8.0->cliff->optuna->python-vivid) (19.3.0)\n",
      "Requirement already satisfied: pyperclip>=1.6 in c:\\users\\zaxir\\anaconda3\\lib\\site-packages (from cmd2!=0.8.3,>=0.8.0->cliff->optuna->python-vivid) (1.8.0)\n",
      "Requirement already satisfied: pyreadline; sys_platform == \"win32\" in c:\\users\\zaxir\\anaconda3\\lib\\site-packages (from cmd2!=0.8.3,>=0.8.0->cliff->optuna->python-vivid) (2.1)\n",
      "Building wheels for collected packages: feather-format\n",
      "  Building wheel for feather-format (setup.py): started\n",
      "  Building wheel for feather-format (setup.py): finished with status 'done'\n",
      "  Created wheel for feather-format: filename=feather_format-0.4.1-py3-none-any.whl size=2461 sha256=196701c62df1c0ec2eddf53b82a030bbbfed03b0a1893e7088f67f9bae1772fd\n",
      "  Stored in directory: c:\\users\\zaxir\\appdata\\local\\pip\\cache\\wheels\\7b\\83\\4b\\44aa8f2292c0ae17a550c5105454e974fc45a5b2a522d66ae1\n",
      "Successfully built feather-format\n",
      "Installing collected packages: pyarrow, feather-format, xgboost, python-vivid\n",
      "Successfully installed feather-format-0.4.1 pyarrow-4.0.1 python-vivid-0.3.3.4 xgboost-1.4.2\n"
     ]
    }
   ],
   "source": [
    "!pip install python-vivid"
   ]
  },
  {
   "cell_type": "code",
   "execution_count": 68,
   "metadata": {},
   "outputs": [],
   "source": [
    "dataset_root = os.environ.get('DATA_ROOT',None)"
   ]
  },
  {
   "cell_type": "code",
   "execution_count": 69,
   "metadata": {},
   "outputs": [],
   "source": [
    "assert dataset_root is not None"
   ]
  },
  {
   "cell_type": "code",
   "execution_count": 70,
   "metadata": {},
   "outputs": [],
   "source": [
    "input_dir = os.path.join(dataset_root,\"inputs\")\n",
    "photo_dir = os.path.join(input_dir,\"photos\")\n",
    "output_dir = os.path.join(dataset_root,\"outputs_tutorial#1\")"
   ]
  },
  {
   "cell_type": "code",
   "execution_count": 71,
   "metadata": {},
   "outputs": [],
   "source": [
    "os.makedirs(output_dir,exist_ok=True)"
   ]
  },
  {
   "cell_type": "code",
   "execution_count": 72,
   "metadata": {},
   "outputs": [],
   "source": [
    "photo_pathes = glob(os.path.join(photo_dir,\"*.jpg\"))"
   ]
  },
  {
   "cell_type": "code",
   "execution_count": 73,
   "metadata": {},
   "outputs": [
    {
     "data": {
      "text/plain": [
       "[]"
      ]
     },
     "execution_count": 73,
     "metadata": {},
     "output_type": "execute_result"
    }
   ],
   "source": [
    "glob(dataset_root + '/inputs/*')"
   ]
  },
  {
   "cell_type": "code",
   "execution_count": 74,
   "metadata": {},
   "outputs": [
    {
     "data": {
      "text/plain": [
       "'/atmacup/atmacup11/data'"
      ]
     },
     "execution_count": 74,
     "metadata": {},
     "output_type": "execute_result"
    }
   ],
   "source": [
    "dataset_root"
   ]
  },
  {
   "cell_type": "code",
   "execution_count": 75,
   "metadata": {},
   "outputs": [
    {
     "data": {
      "text/plain": [
       "'/atmacup/atmacup11/data\\\\inputs'"
      ]
     },
     "execution_count": 75,
     "metadata": {},
     "output_type": "execute_result"
    }
   ],
   "source": [
    "input_dir"
   ]
  },
  {
   "cell_type": "code",
   "execution_count": null,
   "metadata": {},
   "outputs": [],
   "source": []
  }
 ],
 "metadata": {
  "kernelspec": {
   "display_name": "Python 3",
   "language": "python",
   "name": "python3"
  },
  "language_info": {
   "codemirror_mode": {
    "name": "ipython",
    "version": 3
   },
   "file_extension": ".py",
   "mimetype": "text/x-python",
   "name": "python",
   "nbconvert_exporter": "python",
   "pygments_lexer": "ipython3",
   "version": "3.8.3"
  }
 },
 "nbformat": 4,
 "nbformat_minor": 4
}
