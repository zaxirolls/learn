{
 "cells": [
  {
   "cell_type": "markdown",
   "metadata": {},
   "source": [
    "# データの分類\n",
    "## 定性データ\n",
    "- 名義尺度：区別のための数字\n",
    "- 順序尺度：順序にのみ意味がある数字\n",
    "## 定量データ\n",
    "- 間隔尺度：数値の間隔のみ意味がある\n",
    "- 比例尺度：数値としても間隔としても比率にも意味がある"
   ]
  },
  {
   "cell_type": "code",
   "execution_count": 7,
   "metadata": {},
   "outputs": [
    {
     "name": "stdout",
     "output_type": "stream",
     "text": [
      "average: 174.01\n"
     ]
    }
   ],
   "source": [
    "# mean\n",
    "height = [168.3,179.2,165.8,170.5,188.2,174.6,162.8,175.5,178.1,177.1]\n",
    "average = sum(height) / len(height)\n",
    "print('average:',f'{average:.2f}')"
   ]
  },
  {
   "cell_type": "code",
   "execution_count": 11,
   "metadata": {},
   "outputs": [
    {
     "name": "stdout",
     "output_type": "stream",
     "text": [
      "average: 174.01\n"
     ]
    }
   ],
   "source": [
    "# mean - using package\n",
    "from statistics import mean\n",
    "average = mean(height)\n",
    "print('average:',f'{average:.2f}')"
   ]
  },
  {
   "cell_type": "code",
   "execution_count": 16,
   "metadata": {},
   "outputs": [
    {
     "name": "stdout",
     "output_type": "stream",
     "text": [
      "median: 175.05\n"
     ]
    }
   ],
   "source": [
    "# median,mode\n",
    "from statistics import median,mode\n",
    "print('median:',f'{median(height):.2f}')"
   ]
  },
  {
   "cell_type": "code",
   "execution_count": 19,
   "metadata": {},
   "outputs": [
    {
     "name": "stdout",
     "output_type": "stream",
     "text": [
      "4.0\n"
     ]
    }
   ],
   "source": [
    "from scipy.stats import gmean\n",
    "print(f'{gmean([1,2,4,8,16]):.1f}')"
   ]
  },
  {
   "cell_type": "markdown",
   "metadata": {},
   "source": [
    "# memo\n",
    "ここまでは有名な統計量の平均、中央値、最頻値についての出力方法を記載した。  \n",
    "その他には幾何平均、トリム平均がある。"
   ]
  },
  {
   "cell_type": "code",
   "execution_count": 22,
   "metadata": {},
   "outputs": [
    {
     "data": {
      "image/png": "[encoded data removed]",
      "text/plain": [
       "<Figure size 432x288 with 1 Axes>"
      ]
     },
     "metadata": {
      "needs_background": "light"
     },
     "output_type": "display_data"
    }
   ],
   "source": [
    "import numpy as np\n",
    "import matplotlib.pyplot as plt\n",
    "%matplotlib inline\n",
    "\n",
    "t = np.arange(0., 5., 0.2)\n",
    "\n",
    "plt.title('drawing example')\n",
    "plt.plot(t, t, 'r--', label='linear')\n",
    "plt.plot(t, t**2, 'bs', label='square')\n",
    "plt.plot(t, t**3, 'g^', label='cube')\n",
    "plt.xlabel('x values')\n",
    "plt.ylabel('y values')\n",
    "plt.legend()\n",
    "plt.show()"
   ]
  },
  {
   "cell_type": "code",
   "execution_count": null,
   "metadata": {},
   "outputs": [],
   "source": []
  }
 ],
 "metadata": {
  "kernelspec": {
   "display_name": "Python 3",
   "language": "python",
   "name": "python3"
  },
  "language_info": {
   "codemirror_mode": {
    "name": "ipython",
    "version": 3
   },
   "file_extension": ".py",
   "mimetype": "text/x-python",
   "name": "python",
   "nbconvert_exporter": "python",
   "pygments_lexer": "ipython3",
   "version": "3.7.4"
  }
 },
 "nbformat": 4,
 "nbformat_minor": 4
}
