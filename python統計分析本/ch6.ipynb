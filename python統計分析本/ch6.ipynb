{
 "cells": [
  {
   "cell_type": "code",
   "execution_count": 3,
   "metadata": {},
   "outputs": [
    {
     "name": "stdout",
     "output_type": "stream",
     "text": [
      "Z= 2.8293 reject= True\n",
      "p値= 0.0047\n"
     ]
    }
   ],
   "source": [
    "#母分散が既知の場合の母平均の検定　Z検定\n",
    "import math\n",
    "import numpy as np\n",
    "from scipy.stats import norm\n",
    "\n",
    "x = [9.3,10.1,9.9,10.6,9.6,10.8,10.3]\n",
    "mu = 9.5\n",
    "sigma = math.sqrt(0.3)\n",
    "\n",
    "n = len(x)\n",
    "xmean = np.mean(x)\n",
    "Z = (xmean - mu)/(sigma / math.sqrt(n))\n",
    "\n",
    "Z_lower = norm.ppf(0.025)\n",
    "Z_upper = norm.ppf(0.975)\n",
    "print('Z=',Z.round(4),'reject=',(Z<Z_lower)or(Z_upper<Z))\n",
    "\n",
    "p = norm.cdf(-np.abs(Z)) * 2\n",
    "print('p値=',p.round(4))"
   ]
  },
  {
   "cell_type": "code",
   "execution_count": 5,
   "metadata": {},
   "outputs": [
    {
     "name": "stdout",
     "output_type": "stream",
     "text": [
      "chi2= 5.6952 reject= False\n",
      "右側検定したときのp値＝ 0.4582\n"
     ]
    }
   ],
   "source": [
    "#母分散の検定　カイ二乗検定\n",
    "import math\n",
    "import numpy as np\n",
    "from scipy.stats import chi2\n",
    "\n",
    "x = [9.3,10.1,9.9,10.6,9.6,10.8,10.3]\n",
    "n = len(x)\n",
    "xmean = np.mean(x)\n",
    "s = np.std(x,ddof=1)\n",
    "sigma2 = 0.3\n",
    "\n",
    "chi2x = (n-1) * (s**2) / sigma2\n",
    "chi2_lower = chi2.ppf(0.025,n-1)\n",
    "chi2_upper = chi2.ppf(0.975,n-1)\n",
    "\n",
    "print('chi2=', chi2x.round(4),'reject=', (chi2x < chi2_lower) or (chi2_upper < chi2x))\n",
    "\n",
    "p = 1 - chi2.cdf(chi2x,n-1)\n",
    "print('右側検定したときのp値＝',p.round(4))"
   ]
  },
  {
   "cell_type": "markdown",
   "metadata": {},
   "source": [
    "### $\\chi^2$検定の統計量\n",
    "$\\chi^2 = (n-1)s^2 / \\sigma_0^2$\n",
    "#### 両側検定の場合\n",
    "$\\chi^2_{1-\\alpha/2}(n-1) \\le \\chi^2 \\le \\chi^2_{\\alpha/2}(n-1) $"
   ]
  },
  {
   "cell_type": "code",
   "execution_count": null,
   "metadata": {},
   "outputs": [],
   "source": []
  }
 ],
 "metadata": {
  "kernelspec": {
   "display_name": "Python 3",
   "language": "python",
   "name": "python3"
  },
  "language_info": {
   "codemirror_mode": {
    "name": "ipython",
    "version": 3
   },
   "file_extension": ".py",
   "mimetype": "text/x-python",
   "name": "python",
   "nbconvert_exporter": "python",
   "pygments_lexer": "ipython3",
   "version": "3.7.7"
  }
 },
 "nbformat": 4,
 "nbformat_minor": 4
}
